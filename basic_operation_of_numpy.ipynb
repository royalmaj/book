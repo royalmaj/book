{
  "nbformat": 4,
  "nbformat_minor": 0,
  "metadata": {
    "colab": {
      "provenance": [],
      "authorship_tag": "ABX9TyOIbNGgPkXsXj978+CpHDQB",
      "include_colab_link": true
    },
    "kernelspec": {
      "name": "python3",
      "display_name": "Python 3"
    },
    "language_info": {
      "name": "python"
    }
  },
  "cells": [
    {
      "cell_type": "markdown",
      "metadata": {
        "id": "view-in-github",
        "colab_type": "text"
      },
      "source": [
        "<a href=\"https://colab.research.google.com/github/royalmaj/book/blob/main/basic_operation_of_numpy.ipynb\" target=\"_parent\"><img src=\"https://colab.research.google.com/assets/colab-badge.svg\" alt=\"Open In Colab\"/></a>"
      ]
    },
    {
      "cell_type": "code",
      "execution_count": 1,
      "metadata": {
        "colab": {
          "base_uri": "https://localhost:8080/"
        },
        "id": "88ZQSEGv7HQO",
        "outputId": "cbc1f9d5-1175-44b9-deab-23dc991f8969"
      },
      "outputs": [
        {
          "output_type": "stream",
          "name": "stdout",
          "text": [
            "1D Array:\n",
            "Shape: (5,)\n",
            "Size: 5\n",
            "Dimension: 1\n",
            "Length: 5\n",
            "\n",
            "2D Array:\n",
            "Shape: (2, 3)\n",
            "Size: 6\n",
            "Dimension: 2\n",
            "Length: 2\n",
            "\n",
            "3D Array:\n",
            "Shape: (2, 2, 3)\n",
            "Size: 12\n",
            "Dimension: 3\n",
            "Length: 2\n"
          ]
        }
      ],
      "source": [
        "import numpy as np\n",
        "\n",
        "\n",
        "arr_1d = np.array([1, 2, 3, 4, 5])\n",
        "\n",
        "arr_2d = np.array([[1, 2, 3],\n",
        "                   [4, 5, 6]])\n",
        "\n",
        "arr_3d = np.array([[[1, 2, 3],\n",
        "                    [4, 5, 6]],\n",
        "                   [[7, 8, 9],\n",
        "                    [10, 11, 12]]])\n",
        "\n",
        "print(\"1D Array:\")\n",
        "print(\"Shape:\", arr_1d.shape)\n",
        "print(\"Size:\", arr_1d.size)\n",
        "print(\"Dimension:\", arr_1d.ndim)\n",
        "print(\"Length:\", len(arr_1d))\n",
        "\n",
        "print(\"\\n2D Array:\")\n",
        "print(\"Shape:\", arr_2d.shape)\n",
        "print(\"Size:\", arr_2d.size)\n",
        "print(\"Dimension:\", arr_2d.ndim)\n",
        "print(\"Length:\", len(arr_2d))\n",
        "\n",
        "print(\"\\n3D Array:\")\n",
        "print(\"Shape:\", arr_3d.shape)\n",
        "print(\"Size:\", arr_3d.size)\n",
        "print(\"Dimension:\", arr_3d.ndim)\n",
        "print(\"Length:\", len(arr_3d))\n"
      ]
    },
    {
      "cell_type": "code",
      "source": [
        "import numpy as np\n",
        "\n",
        "arr_arange = np.arange(0, 10, 2)\n",
        "print(\"np.arange():\", arr_arange)\n",
        "\n",
        "arr_randint = np.random.randint(1, 100, size=(3, 3))\n",
        "print(\"np.random.randint():\\n\", arr_randint)\n",
        "\n",
        "arr_rand = np.random.rand(2, 3)\n",
        "print(\"np.random.rand():\\n\", arr_rand)\n",
        "\n",
        "arr_linspace = np.linspace(0, 10, num=5)\n",
        "print(\"np.linspace():\", arr_linspace)\n",
        "\n",
        "arr_ones = np.ones((2, 3))\n",
        "print(\"np.ones():\\n\", arr_ones)\n",
        "\n",
        "arr_zeros = np.zeros((3, 2))\n",
        "print(\"np.zeros():\\n\", arr_zeros)\n",
        "\n",
        "arr_diag = np.diag([1, 2, 3])\n",
        "print(\"np.diag():\\n\", arr_diag)\n",
        "\n",
        "arr_sum = np.sum(arr_randint)\n",
        "print(\"np.sum():\", arr_sum)\n",
        "\n",
        "arr_min = np.min(arr_randint)\n",
        "print(\"np.min():\", arr_min)\n",
        "\n",
        "arr_max = np.max(arr_randint)\n",
        "print(\"np.max():\", arr_max)\n",
        "\n",
        "arr_mean = np.mean(arr_randint)\n",
        "print(\"np.mean():\", arr_mean)\n"
      ],
      "metadata": {
        "colab": {
          "base_uri": "https://localhost:8080/"
        },
        "id": "Hlr7LpEr7JAY",
        "outputId": "a7c3b957-02b2-468e-cf5a-284446f0546c"
      },
      "execution_count": 2,
      "outputs": [
        {
          "output_type": "stream",
          "name": "stdout",
          "text": [
            "np.arange(): [0 2 4 6 8]\n",
            "np.random.randint():\n",
            " [[16 35 92]\n",
            " [33 63 59]\n",
            " [42 70  6]]\n",
            "np.random.rand():\n",
            " [[0.81604639 0.41683516 0.72808511]\n",
            " [0.11735208 0.97595525 0.4130751 ]]\n",
            "np.linspace(): [ 0.   2.5  5.   7.5 10. ]\n",
            "np.ones():\n",
            " [[1. 1. 1.]\n",
            " [1. 1. 1.]]\n",
            "np.zeros():\n",
            " [[0. 0.]\n",
            " [0. 0.]\n",
            " [0. 0.]]\n",
            "np.diag():\n",
            " [[1 0 0]\n",
            " [0 2 0]\n",
            " [0 0 3]]\n",
            "np.sum(): 416\n",
            "np.min(): 6\n",
            "np.max(): 92\n",
            "np.mean(): 46.22222222222222\n"
          ]
        }
      ]
    },
    {
      "cell_type": "code",
      "source": [
        "import random\n",
        "\n",
        "\n",
        "num_students = 50\n",
        "student_marks = [random.randint(0, 100) for _ in range(num_students)]\n",
        "\n",
        "\n",
        "def filter_failed_marks(marks):\n",
        "    return [mark for mark in marks if mark < 30]\n",
        "\n",
        "def count_passed_students(marks):\n",
        "    passed_count = sum(1 for mark in marks if mark >= 30)\n",
        "    return passed_count\n",
        "\n",
        "passed_students = count_passed_students(student_marks)\n",
        "\n",
        "\n",
        "failed_marks = filter_failed_marks(student_marks)\n",
        "\n",
        "\n",
        "print(\"Number of students who passed:\", passed_students)\n",
        "print(\"Failed marks:\", failed_marks)\n"
      ],
      "metadata": {
        "colab": {
          "base_uri": "https://localhost:8080/"
        },
        "id": "pz0DOsJX9asw",
        "outputId": "9d313251-6142-426c-f0ad-f23ea2050f45"
      },
      "execution_count": 3,
      "outputs": [
        {
          "output_type": "stream",
          "name": "stdout",
          "text": [
            "Number of students who passed: 39\n",
            "Failed marks: [24, 5, 24, 8, 2, 21, 20, 16, 4, 28, 28]\n"
          ]
        }
      ]
    },
    {
      "cell_type": "code",
      "source": [
        "import numpy as np\n",
        "\n",
        "\n",
        "random_2d_array = np.random.randint(1, 51, size=(3, 4))\n",
        "\n",
        "print(random_2d_array)\n"
      ],
      "metadata": {
        "colab": {
          "base_uri": "https://localhost:8080/"
        },
        "id": "m037mnpEAQYh",
        "outputId": "9cd8c65b-25ed-4027-e0db-b6a5d6cb379e"
      },
      "execution_count": 4,
      "outputs": [
        {
          "output_type": "stream",
          "name": "stdout",
          "text": [
            "[[20 42 23  7]\n",
            " [ 2 29 11 42]\n",
            " [36 21  9 14]]\n"
          ]
        }
      ]
    },
    {
      "cell_type": "code",
      "source": [
        "import numpy as np\n",
        "\n",
        "\n",
        "odd_numbers_array = np.arange(-29, 11, 2)\n",
        "\n",
        "print(odd_numbers_array)\n"
      ],
      "metadata": {
        "colab": {
          "base_uri": "https://localhost:8080/"
        },
        "id": "Vy2BHU-EAg3v",
        "outputId": "ad3f0582-83da-4c89-d744-f4dd34975e32"
      },
      "execution_count": 5,
      "outputs": [
        {
          "output_type": "stream",
          "name": "stdout",
          "text": [
            "[-29 -27 -25 -23 -21 -19 -17 -15 -13 -11  -9  -7  -5  -3  -1   1   3   5\n",
            "   7   9]\n"
          ]
        }
      ]
    },
    {
      "cell_type": "code",
      "source": [],
      "metadata": {
        "id": "OFqdIiSuAiI2"
      },
      "execution_count": null,
      "outputs": []
    }
  ]
}