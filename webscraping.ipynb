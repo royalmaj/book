{
  "nbformat": 4,
  "nbformat_minor": 0,
  "metadata": {
    "colab": {
      "provenance": [],
      "mount_file_id": "10OCZjuEadDFhVWxXkvJJqWm-3LGd_b_-",
      "authorship_tag": "ABX9TyPKHXNWD6FWi3BwcvQxhCbx",
      "include_colab_link": true
    },
    "kernelspec": {
      "name": "python3",
      "display_name": "Python 3"
    },
    "language_info": {
      "name": "python"
    }
  },
  "cells": [
    {
      "cell_type": "markdown",
      "metadata": {
        "id": "view-in-github",
        "colab_type": "text"
      },
      "source": [
        "<a href=\"https://colab.research.google.com/github/royalmaj/book/blob/main/webscraping.ipynb\" target=\"_parent\"><img src=\"https://colab.research.google.com/assets/colab-badge.svg\" alt=\"Open In Colab\"/></a>"
      ]
    },
    {
      "cell_type": "code",
      "source": [
        "import os\n",
        "import requests\n",
        "from bs4 import BeautifulSoup\n",
        "from urllib.parse import urljoin\n",
        "\n",
        "\n",
        "def extract_images_from_website(url, output_directory):\n",
        "    try:\n",
        "\n",
        "        response = requests.get(url)\n",
        "\n",
        "        soup = BeautifulSoup(response.content, 'html.parser')\n",
        "\n",
        "\n",
        "        os.makedirs(output_directory, exist_ok=True)\n",
        "\n",
        "        image_counter = 1\n",
        "\n",
        "\n",
        "        for img_tag in soup.find_all('img'):\n",
        "\n",
        "            img_url = img_tag.get('src')\n",
        "\n",
        "            img_url = urljoin(url, img_url)\n",
        "\n",
        "            img_response = requests.get(img_url)\n",
        "\n",
        "            img_filename = os.path.join(output_directory, f'image_{image_counter}.jpg')\n",
        "\n",
        "            with open(img_filename, 'wb') as img_file:\n",
        "                img_file.write(img_response.content)\n",
        "\n",
        "            image_counter += 1\n",
        "\n",
        "        print(f\"Images downloaded successfully to '{output_directory}' directory.\")\n",
        "\n",
        "    except Exception as e:\n",
        "        print(\"An error occurred:\", str(e))\n",
        "\n",
        "\n",
        "website_url = \"https://in.pinterest.com/monoranjansardar/beautiful-flowers/\"\n",
        "output_directory = \"downloaded_images\"\n",
        "extract_images_from_website(website_url, output_directory)"
      ],
      "metadata": {
        "colab": {
          "base_uri": "https://localhost:8080/"
        },
        "id": "gvDw2omW70Ou",
        "outputId": "b120c523-8ac6-4c3d-b8c4-12905f19067e"
      },
      "execution_count": 2,
      "outputs": [
        {
          "output_type": "stream",
          "name": "stdout",
          "text": [
            "Images downloaded successfully to 'downloaded_images' directory.\n"
          ]
        }
      ]
    },
    {
      "cell_type": "code",
      "source": [],
      "metadata": {
        "id": "rurZ4ghL8D5t"
      },
      "execution_count": null,
      "outputs": []
    }
  ]
}